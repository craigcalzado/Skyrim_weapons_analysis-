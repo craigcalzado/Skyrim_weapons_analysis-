{
 "cells": [
  {
   "cell_type": "code",
   "execution_count": 4,
   "metadata": {},
   "outputs": [],
   "source": [
    "import kaggle \n",
    "import pandas as pd"
   ]
  },
  {
   "cell_type": "code",
   "execution_count": 5,
   "metadata": {},
   "outputs": [],
   "source": [
    "def acquire_weapons():\n",
    "    '''\n",
    "    This function utilizes Kaggle API to acquire skyrim weapons.\n",
    "    Before running this function, you must have a Kaggle API key.\n",
    "    '''\n",
    "    kaggle.api.authenticate()\n",
    "    kaggle.api.dataset_download_files('elmartini/skyrim-weapons-dataset', path='./' , unzip=True)\n",
    "    df = pd.read_csv('skyrim_weapons.csv')\n",
    "    return df"
   ]
  },
  {
   "cell_type": "code",
   "execution_count": 9,
   "metadata": {},
   "outputs": [],
   "source": [
    "# use acquire_weapons() to acquire the data\n",
    "df = acquire_weapons()"
   ]
  },
  {
   "cell_type": "code",
   "execution_count": 13,
   "metadata": {},
   "outputs": [
    {
     "data": {
      "text/html": [
       "<div>\n",
       "<style scoped>\n",
       "    .dataframe tbody tr th:only-of-type {\n",
       "        vertical-align: middle;\n",
       "    }\n",
       "\n",
       "    .dataframe tbody tr th {\n",
       "        vertical-align: top;\n",
       "    }\n",
       "\n",
       "    .dataframe thead th {\n",
       "        text-align: right;\n",
       "    }\n",
       "</style>\n",
       "<table border=\"1\" class=\"dataframe\">\n",
       "  <thead>\n",
       "    <tr style=\"text-align: right;\">\n",
       "      <th></th>\n",
       "      <th>Name</th>\n",
       "      <th>Damage</th>\n",
       "      <th>Weight</th>\n",
       "      <th>Gold</th>\n",
       "      <th>Upgrade</th>\n",
       "      <th>Perk</th>\n",
       "      <th>Type</th>\n",
       "      <th>Category</th>\n",
       "      <th>Speed</th>\n",
       "    </tr>\n",
       "  </thead>\n",
       "  <tbody>\n",
       "    <tr>\n",
       "      <th>0</th>\n",
       "      <td>Ancient Nord Battle Axe</td>\n",
       "      <td>18</td>\n",
       "      <td>22.0</td>\n",
       "      <td>28</td>\n",
       "      <td>Steel Ingot</td>\n",
       "      <td>Steel</td>\n",
       "      <td>Battleaxe</td>\n",
       "      <td>Two-Handed</td>\n",
       "      <td>NaN</td>\n",
       "    </tr>\n",
       "    <tr>\n",
       "      <th>1</th>\n",
       "      <td>Daedric Battleaxe</td>\n",
       "      <td>25</td>\n",
       "      <td>27.0</td>\n",
       "      <td>2750</td>\n",
       "      <td>Ebony Ingot</td>\n",
       "      <td>Daedric</td>\n",
       "      <td>Battleaxe</td>\n",
       "      <td>Two-Handed</td>\n",
       "      <td>NaN</td>\n",
       "    </tr>\n",
       "    <tr>\n",
       "      <th>2</th>\n",
       "      <td>Dragonbone Battleaxe</td>\n",
       "      <td>26</td>\n",
       "      <td>30.0</td>\n",
       "      <td>3000</td>\n",
       "      <td>Dragon Bone</td>\n",
       "      <td>Dragon</td>\n",
       "      <td>Battleaxe</td>\n",
       "      <td>Two-Handed</td>\n",
       "      <td>NaN</td>\n",
       "    </tr>\n",
       "    <tr>\n",
       "      <th>3</th>\n",
       "      <td>Drainblood Battleaxe</td>\n",
       "      <td>21</td>\n",
       "      <td>5.0</td>\n",
       "      <td>266</td>\n",
       "      <td>NaN</td>\n",
       "      <td>-</td>\n",
       "      <td>Battleaxe</td>\n",
       "      <td>Two-Handed</td>\n",
       "      <td>NaN</td>\n",
       "    </tr>\n",
       "    <tr>\n",
       "      <th>4</th>\n",
       "      <td>Dwarven Battleaxe</td>\n",
       "      <td>20</td>\n",
       "      <td>23.0</td>\n",
       "      <td>300</td>\n",
       "      <td>Dwarven Metal Ingot</td>\n",
       "      <td>Dwarven</td>\n",
       "      <td>Battleaxe</td>\n",
       "      <td>Two-Handed</td>\n",
       "      <td>NaN</td>\n",
       "    </tr>\n",
       "  </tbody>\n",
       "</table>\n",
       "</div>"
      ],
      "text/plain": [
       "                      Name  Damage  Weight  Gold              Upgrade  \\\n",
       "0  Ancient Nord Battle Axe      18    22.0    28          Steel Ingot   \n",
       "1        Daedric Battleaxe      25    27.0  2750          Ebony Ingot   \n",
       "2    Dragonbone Battleaxe       26    30.0  3000          Dragon Bone   \n",
       "3     Drainblood Battleaxe      21     5.0   266                  NaN   \n",
       "4        Dwarven Battleaxe      20    23.0   300  Dwarven Metal Ingot   \n",
       "\n",
       "      Perk       Type    Category  Speed  \n",
       "0    Steel  Battleaxe  Two-Handed    NaN  \n",
       "1  Daedric  Battleaxe  Two-Handed    NaN  \n",
       "2   Dragon  Battleaxe  Two-Handed    NaN  \n",
       "3        -  Battleaxe  Two-Handed    NaN  \n",
       "4  Dwarven  Battleaxe  Two-Handed    NaN  "
      ]
     },
     "execution_count": 13,
     "metadata": {},
     "output_type": "execute_result"
    }
   ],
   "source": [
    "# print the first 5 rows of the dataframe\n",
    "df.head()"
   ]
  },
  {
   "cell_type": "code",
   "execution_count": 14,
   "metadata": {},
   "outputs": [
    {
     "name": "stdout",
     "output_type": "stream",
     "text": [
      "<class 'pandas.core.frame.DataFrame'>\n",
      "RangeIndex: 293 entries, 0 to 292\n",
      "Data columns (total 9 columns):\n",
      " #   Column    Non-Null Count  Dtype  \n",
      "---  ------    --------------  -----  \n",
      " 0   Name      293 non-null    object \n",
      " 1   Damage    293 non-null    int64  \n",
      " 2   Weight    293 non-null    float64\n",
      " 3   Gold      293 non-null    int64  \n",
      " 4   Upgrade   232 non-null    object \n",
      " 5   Perk      251 non-null    object \n",
      " 6   Type      293 non-null    object \n",
      " 7   Category  293 non-null    object \n",
      " 8   Speed     39 non-null     float64\n",
      "dtypes: float64(2), int64(2), object(5)\n",
      "memory usage: 20.7+ KB\n"
     ]
    }
   ],
   "source": [
    "# check dataset for nulls\n",
    "df.info()"
   ]
  },
  {
   "cell_type": "code",
   "execution_count": null,
   "metadata": {},
   "outputs": [],
   "source": []
  }
 ],
 "metadata": {
  "kernelspec": {
   "display_name": "Python 3.9.7 ('base')",
   "language": "python",
   "name": "python3"
  },
  "language_info": {
   "codemirror_mode": {
    "name": "ipython",
    "version": 3
   },
   "file_extension": ".py",
   "mimetype": "text/x-python",
   "name": "python",
   "nbconvert_exporter": "python",
   "pygments_lexer": "ipython3",
   "version": "3.9.7"
  },
  "orig_nbformat": 4,
  "vscode": {
   "interpreter": {
    "hash": "3067ead486e059ec00ffe7555bdb889e6e264a24dc711bf108106cc7baee8d5d"
   }
  }
 },
 "nbformat": 4,
 "nbformat_minor": 2
}
